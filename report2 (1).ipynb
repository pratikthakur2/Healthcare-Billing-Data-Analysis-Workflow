{
  "nbformat": 4,
  "nbformat_minor": 0,
  "metadata": {
    "colab": {
      "provenance": [],
      "gpuType": "T4"
    },
    "kernelspec": {
      "name": "python3",
      "display_name": "Python 3"
    },
    "language_info": {
      "name": "python"
    },
    "accelerator": "GPU"
  },
  "cells": [
    {
      "cell_type": "code",
      "execution_count": 3,
      "metadata": {
        "id": "50V8rhQ5LnRd"
      },
      "outputs": [],
      "source": [
        "import pandas as pd"
      ]
    },
    {
      "cell_type": "code",
      "source": [
        "df = pd.read_csv('/content/cleaned_data (1).csv')"
      ],
      "metadata": {
        "id": "iRYMB13ZXxWk"
      },
      "execution_count": 4,
      "outputs": []
    },
    {
      "cell_type": "code",
      "source": [
        "df.head()"
      ],
      "metadata": {
        "colab": {
          "base_uri": "https://localhost:8080/",
          "height": 206
        },
        "id": "wb8FiBieZX5f",
        "outputId": "c1fce512-a13c-4c74-d4d1-bc371f20f317"
      },
      "execution_count": 5,
      "outputs": [
        {
          "output_type": "execute_result",
          "data": {
            "text/plain": [
              "   Account ID  Customer Name Billing_Date      Amount   Status   Description  \\\n",
              "0        1001   David Wilson   2023-01-01  193.987558  Pending  Consultation   \n",
              "1        1002  Alice Johnson   2023-01-02  370.656021  Pending      Purchase   \n",
              "2        1003  Sophia Garcia   2023-01-03  233.019486  Pending      Lab Test   \n",
              "3        1004   Olivia Davis   2023-01-04  296.120725     Paid     Follow-up   \n",
              "4        1005   David Wilson   2023-01-05  294.654764     Paid       Therapy   \n",
              "\n",
              "    Department  \n",
              "0   Pediatrics  \n",
              "1  Orthopedics  \n",
              "2     Pharmacy  \n",
              "3     Pharmacy  \n",
              "4          ENT  "
            ],
            "text/html": [
              "\n",
              "  <div id=\"df-dc881dc3-85a3-4d89-8c29-3c80c307f91d\" class=\"colab-df-container\">\n",
              "    <div>\n",
              "<style scoped>\n",
              "    .dataframe tbody tr th:only-of-type {\n",
              "        vertical-align: middle;\n",
              "    }\n",
              "\n",
              "    .dataframe tbody tr th {\n",
              "        vertical-align: top;\n",
              "    }\n",
              "\n",
              "    .dataframe thead th {\n",
              "        text-align: right;\n",
              "    }\n",
              "</style>\n",
              "<table border=\"1\" class=\"dataframe\">\n",
              "  <thead>\n",
              "    <tr style=\"text-align: right;\">\n",
              "      <th></th>\n",
              "      <th>Account ID</th>\n",
              "      <th>Customer Name</th>\n",
              "      <th>Billing_Date</th>\n",
              "      <th>Amount</th>\n",
              "      <th>Status</th>\n",
              "      <th>Description</th>\n",
              "      <th>Department</th>\n",
              "    </tr>\n",
              "  </thead>\n",
              "  <tbody>\n",
              "    <tr>\n",
              "      <th>0</th>\n",
              "      <td>1001</td>\n",
              "      <td>David Wilson</td>\n",
              "      <td>2023-01-01</td>\n",
              "      <td>193.987558</td>\n",
              "      <td>Pending</td>\n",
              "      <td>Consultation</td>\n",
              "      <td>Pediatrics</td>\n",
              "    </tr>\n",
              "    <tr>\n",
              "      <th>1</th>\n",
              "      <td>1002</td>\n",
              "      <td>Alice Johnson</td>\n",
              "      <td>2023-01-02</td>\n",
              "      <td>370.656021</td>\n",
              "      <td>Pending</td>\n",
              "      <td>Purchase</td>\n",
              "      <td>Orthopedics</td>\n",
              "    </tr>\n",
              "    <tr>\n",
              "      <th>2</th>\n",
              "      <td>1003</td>\n",
              "      <td>Sophia Garcia</td>\n",
              "      <td>2023-01-03</td>\n",
              "      <td>233.019486</td>\n",
              "      <td>Pending</td>\n",
              "      <td>Lab Test</td>\n",
              "      <td>Pharmacy</td>\n",
              "    </tr>\n",
              "    <tr>\n",
              "      <th>3</th>\n",
              "      <td>1004</td>\n",
              "      <td>Olivia Davis</td>\n",
              "      <td>2023-01-04</td>\n",
              "      <td>296.120725</td>\n",
              "      <td>Paid</td>\n",
              "      <td>Follow-up</td>\n",
              "      <td>Pharmacy</td>\n",
              "    </tr>\n",
              "    <tr>\n",
              "      <th>4</th>\n",
              "      <td>1005</td>\n",
              "      <td>David Wilson</td>\n",
              "      <td>2023-01-05</td>\n",
              "      <td>294.654764</td>\n",
              "      <td>Paid</td>\n",
              "      <td>Therapy</td>\n",
              "      <td>ENT</td>\n",
              "    </tr>\n",
              "  </tbody>\n",
              "</table>\n",
              "</div>\n",
              "    <div class=\"colab-df-buttons\">\n",
              "\n",
              "  <div class=\"colab-df-container\">\n",
              "    <button class=\"colab-df-convert\" onclick=\"convertToInteractive('df-dc881dc3-85a3-4d89-8c29-3c80c307f91d')\"\n",
              "            title=\"Convert this dataframe to an interactive table.\"\n",
              "            style=\"display:none;\">\n",
              "\n",
              "  <svg xmlns=\"http://www.w3.org/2000/svg\" height=\"24px\" viewBox=\"0 -960 960 960\">\n",
              "    <path d=\"M120-120v-720h720v720H120Zm60-500h600v-160H180v160Zm220 220h160v-160H400v160Zm0 220h160v-160H400v160ZM180-400h160v-160H180v160Zm440 0h160v-160H620v160ZM180-180h160v-160H180v160Zm440 0h160v-160H620v160Z\"/>\n",
              "  </svg>\n",
              "    </button>\n",
              "\n",
              "  <style>\n",
              "    .colab-df-container {\n",
              "      display:flex;\n",
              "      gap: 12px;\n",
              "    }\n",
              "\n",
              "    .colab-df-convert {\n",
              "      background-color: #E8F0FE;\n",
              "      border: none;\n",
              "      border-radius: 50%;\n",
              "      cursor: pointer;\n",
              "      display: none;\n",
              "      fill: #1967D2;\n",
              "      height: 32px;\n",
              "      padding: 0 0 0 0;\n",
              "      width: 32px;\n",
              "    }\n",
              "\n",
              "    .colab-df-convert:hover {\n",
              "      background-color: #E2EBFA;\n",
              "      box-shadow: 0px 1px 2px rgba(60, 64, 67, 0.3), 0px 1px 3px 1px rgba(60, 64, 67, 0.15);\n",
              "      fill: #174EA6;\n",
              "    }\n",
              "\n",
              "    .colab-df-buttons div {\n",
              "      margin-bottom: 4px;\n",
              "    }\n",
              "\n",
              "    [theme=dark] .colab-df-convert {\n",
              "      background-color: #3B4455;\n",
              "      fill: #D2E3FC;\n",
              "    }\n",
              "\n",
              "    [theme=dark] .colab-df-convert:hover {\n",
              "      background-color: #434B5C;\n",
              "      box-shadow: 0px 1px 3px 1px rgba(0, 0, 0, 0.15);\n",
              "      filter: drop-shadow(0px 1px 2px rgba(0, 0, 0, 0.3));\n",
              "      fill: #FFFFFF;\n",
              "    }\n",
              "  </style>\n",
              "\n",
              "    <script>\n",
              "      const buttonEl =\n",
              "        document.querySelector('#df-dc881dc3-85a3-4d89-8c29-3c80c307f91d button.colab-df-convert');\n",
              "      buttonEl.style.display =\n",
              "        google.colab.kernel.accessAllowed ? 'block' : 'none';\n",
              "\n",
              "      async function convertToInteractive(key) {\n",
              "        const element = document.querySelector('#df-dc881dc3-85a3-4d89-8c29-3c80c307f91d');\n",
              "        const dataTable =\n",
              "          await google.colab.kernel.invokeFunction('convertToInteractive',\n",
              "                                                    [key], {});\n",
              "        if (!dataTable) return;\n",
              "\n",
              "        const docLinkHtml = 'Like what you see? Visit the ' +\n",
              "          '<a target=\"_blank\" href=https://colab.research.google.com/notebooks/data_table.ipynb>data table notebook</a>'\n",
              "          + ' to learn more about interactive tables.';\n",
              "        element.innerHTML = '';\n",
              "        dataTable['output_type'] = 'display_data';\n",
              "        await google.colab.output.renderOutput(dataTable, element);\n",
              "        const docLink = document.createElement('div');\n",
              "        docLink.innerHTML = docLinkHtml;\n",
              "        element.appendChild(docLink);\n",
              "      }\n",
              "    </script>\n",
              "  </div>\n",
              "\n",
              "\n",
              "<div id=\"df-c768377f-0deb-4d6a-a8e0-d433eeb69ccf\">\n",
              "  <button class=\"colab-df-quickchart\" onclick=\"quickchart('df-c768377f-0deb-4d6a-a8e0-d433eeb69ccf')\"\n",
              "            title=\"Suggest charts\"\n",
              "            style=\"display:none;\">\n",
              "\n",
              "<svg xmlns=\"http://www.w3.org/2000/svg\" height=\"24px\"viewBox=\"0 0 24 24\"\n",
              "     width=\"24px\">\n",
              "    <g>\n",
              "        <path d=\"M19 3H5c-1.1 0-2 .9-2 2v14c0 1.1.9 2 2 2h14c1.1 0 2-.9 2-2V5c0-1.1-.9-2-2-2zM9 17H7v-7h2v7zm4 0h-2V7h2v10zm4 0h-2v-4h2v4z\"/>\n",
              "    </g>\n",
              "</svg>\n",
              "  </button>\n",
              "\n",
              "<style>\n",
              "  .colab-df-quickchart {\n",
              "      --bg-color: #E8F0FE;\n",
              "      --fill-color: #1967D2;\n",
              "      --hover-bg-color: #E2EBFA;\n",
              "      --hover-fill-color: #174EA6;\n",
              "      --disabled-fill-color: #AAA;\n",
              "      --disabled-bg-color: #DDD;\n",
              "  }\n",
              "\n",
              "  [theme=dark] .colab-df-quickchart {\n",
              "      --bg-color: #3B4455;\n",
              "      --fill-color: #D2E3FC;\n",
              "      --hover-bg-color: #434B5C;\n",
              "      --hover-fill-color: #FFFFFF;\n",
              "      --disabled-bg-color: #3B4455;\n",
              "      --disabled-fill-color: #666;\n",
              "  }\n",
              "\n",
              "  .colab-df-quickchart {\n",
              "    background-color: var(--bg-color);\n",
              "    border: none;\n",
              "    border-radius: 50%;\n",
              "    cursor: pointer;\n",
              "    display: none;\n",
              "    fill: var(--fill-color);\n",
              "    height: 32px;\n",
              "    padding: 0;\n",
              "    width: 32px;\n",
              "  }\n",
              "\n",
              "  .colab-df-quickchart:hover {\n",
              "    background-color: var(--hover-bg-color);\n",
              "    box-shadow: 0 1px 2px rgba(60, 64, 67, 0.3), 0 1px 3px 1px rgba(60, 64, 67, 0.15);\n",
              "    fill: var(--button-hover-fill-color);\n",
              "  }\n",
              "\n",
              "  .colab-df-quickchart-complete:disabled,\n",
              "  .colab-df-quickchart-complete:disabled:hover {\n",
              "    background-color: var(--disabled-bg-color);\n",
              "    fill: var(--disabled-fill-color);\n",
              "    box-shadow: none;\n",
              "  }\n",
              "\n",
              "  .colab-df-spinner {\n",
              "    border: 2px solid var(--fill-color);\n",
              "    border-color: transparent;\n",
              "    border-bottom-color: var(--fill-color);\n",
              "    animation:\n",
              "      spin 1s steps(1) infinite;\n",
              "  }\n",
              "\n",
              "  @keyframes spin {\n",
              "    0% {\n",
              "      border-color: transparent;\n",
              "      border-bottom-color: var(--fill-color);\n",
              "      border-left-color: var(--fill-color);\n",
              "    }\n",
              "    20% {\n",
              "      border-color: transparent;\n",
              "      border-left-color: var(--fill-color);\n",
              "      border-top-color: var(--fill-color);\n",
              "    }\n",
              "    30% {\n",
              "      border-color: transparent;\n",
              "      border-left-color: var(--fill-color);\n",
              "      border-top-color: var(--fill-color);\n",
              "      border-right-color: var(--fill-color);\n",
              "    }\n",
              "    40% {\n",
              "      border-color: transparent;\n",
              "      border-right-color: var(--fill-color);\n",
              "      border-top-color: var(--fill-color);\n",
              "    }\n",
              "    60% {\n",
              "      border-color: transparent;\n",
              "      border-right-color: var(--fill-color);\n",
              "    }\n",
              "    80% {\n",
              "      border-color: transparent;\n",
              "      border-right-color: var(--fill-color);\n",
              "      border-bottom-color: var(--fill-color);\n",
              "    }\n",
              "    90% {\n",
              "      border-color: transparent;\n",
              "      border-bottom-color: var(--fill-color);\n",
              "    }\n",
              "  }\n",
              "</style>\n",
              "\n",
              "  <script>\n",
              "    async function quickchart(key) {\n",
              "      const quickchartButtonEl =\n",
              "        document.querySelector('#' + key + ' button');\n",
              "      quickchartButtonEl.disabled = true;  // To prevent multiple clicks.\n",
              "      quickchartButtonEl.classList.add('colab-df-spinner');\n",
              "      try {\n",
              "        const charts = await google.colab.kernel.invokeFunction(\n",
              "            'suggestCharts', [key], {});\n",
              "      } catch (error) {\n",
              "        console.error('Error during call to suggestCharts:', error);\n",
              "      }\n",
              "      quickchartButtonEl.classList.remove('colab-df-spinner');\n",
              "      quickchartButtonEl.classList.add('colab-df-quickchart-complete');\n",
              "    }\n",
              "    (() => {\n",
              "      let quickchartButtonEl =\n",
              "        document.querySelector('#df-c768377f-0deb-4d6a-a8e0-d433eeb69ccf button');\n",
              "      quickchartButtonEl.style.display =\n",
              "        google.colab.kernel.accessAllowed ? 'block' : 'none';\n",
              "    })();\n",
              "  </script>\n",
              "</div>\n",
              "\n",
              "    </div>\n",
              "  </div>\n"
            ],
            "application/vnd.google.colaboratory.intrinsic+json": {
              "type": "dataframe",
              "variable_name": "df",
              "summary": "{\n  \"name\": \"df\",\n  \"rows\": 110,\n  \"fields\": [\n    {\n      \"column\": \"Account ID\",\n      \"properties\": {\n        \"dtype\": \"number\",\n        \"std\": 28,\n        \"min\": 1001,\n        \"max\": 1100,\n        \"num_unique_values\": 100,\n        \"samples\": [\n          1084,\n          1054,\n          1071\n        ],\n        \"semantic_type\": \"\",\n        \"description\": \"\"\n      }\n    },\n    {\n      \"column\": \"Customer Name\",\n      \"properties\": {\n        \"dtype\": \"category\",\n        \"num_unique_values\": 10,\n        \"samples\": [\n          \"John Doe\",\n          \"Alice Johnson\",\n          \"Liam Martinez\"\n        ],\n        \"semantic_type\": \"\",\n        \"description\": \"\"\n      }\n    },\n    {\n      \"column\": \"Billing_Date\",\n      \"properties\": {\n        \"dtype\": \"object\",\n        \"num_unique_values\": 100,\n        \"samples\": [\n          \"2023-03-25\",\n          \"2023-02-23\",\n          \"2023-03-12\"\n        ],\n        \"semantic_type\": \"\",\n        \"description\": \"\"\n      }\n    },\n    {\n      \"column\": \"Amount\",\n      \"properties\": {\n        \"dtype\": \"number\",\n        \"std\": 738.7599662437997,\n        \"min\": 50.5810030089757,\n        \"max\": 3849.77133065895,\n        \"num_unique_values\": 110,\n        \"samples\": [\n          335.720763071165,\n          167.993018860314,\n          294.654763636484\n        ],\n        \"semantic_type\": \"\",\n        \"description\": \"\"\n      }\n    },\n    {\n      \"column\": \"Status\",\n      \"properties\": {\n        \"dtype\": \"category\",\n        \"num_unique_values\": 4,\n        \"samples\": [\n          \"Paid\",\n          \"Unknown\",\n          \"Pending\"\n        ],\n        \"semantic_type\": \"\",\n        \"description\": \"\"\n      }\n    },\n    {\n      \"column\": \"Description\",\n      \"properties\": {\n        \"dtype\": \"category\",\n        \"num_unique_values\": 11,\n        \"samples\": [\n          \"Procedure\",\n          \"Consultation\",\n          \"Refund\"\n        ],\n        \"semantic_type\": \"\",\n        \"description\": \"\"\n      }\n    },\n    {\n      \"column\": \"Department\",\n      \"properties\": {\n        \"dtype\": \"category\",\n        \"num_unique_values\": 11,\n        \"samples\": [\n          \"Neurology\",\n          \"Pediatrics\",\n          \"Radiology\"\n        ],\n        \"semantic_type\": \"\",\n        \"description\": \"\"\n      }\n    }\n  ]\n}"
            }
          },
          "metadata": {},
          "execution_count": 5
        }
      ]
    },
    {
      "cell_type": "code",
      "source": [
        "df.shape"
      ],
      "metadata": {
        "colab": {
          "base_uri": "https://localhost:8080/"
        },
        "id": "EK2d8dJvZZkf",
        "outputId": "ef020475-56a9-4b3e-e00d-4ddb110e2869"
      },
      "execution_count": 6,
      "outputs": [
        {
          "output_type": "execute_result",
          "data": {
            "text/plain": [
              "(110, 7)"
            ]
          },
          "metadata": {},
          "execution_count": 6
        }
      ]
    },
    {
      "cell_type": "code",
      "source": [
        "df.describe()"
      ],
      "metadata": {
        "colab": {
          "base_uri": "https://localhost:8080/",
          "height": 300
        },
        "id": "7nhXaQ_OZdGn",
        "outputId": "1b055ae1-bf77-44d9-c0a3-048782a5302d"
      },
      "execution_count": 7,
      "outputs": [
        {
          "output_type": "execute_result",
          "data": {
            "text/plain": [
              "        Account ID       Amount\n",
              "count   110.000000   110.000000\n",
              "mean   1048.000000   479.309018\n",
              "std      28.809721   738.759966\n",
              "min    1001.000000    50.581003\n",
              "25%    1023.250000   145.411712\n",
              "50%    1045.500000   253.709053\n",
              "75%    1072.750000   392.219435\n",
              "max    1100.000000  3849.771331"
            ],
            "text/html": [
              "\n",
              "  <div id=\"df-2c6d0526-3c15-4c28-89f3-d06b1d79a4c9\" class=\"colab-df-container\">\n",
              "    <div>\n",
              "<style scoped>\n",
              "    .dataframe tbody tr th:only-of-type {\n",
              "        vertical-align: middle;\n",
              "    }\n",
              "\n",
              "    .dataframe tbody tr th {\n",
              "        vertical-align: top;\n",
              "    }\n",
              "\n",
              "    .dataframe thead th {\n",
              "        text-align: right;\n",
              "    }\n",
              "</style>\n",
              "<table border=\"1\" class=\"dataframe\">\n",
              "  <thead>\n",
              "    <tr style=\"text-align: right;\">\n",
              "      <th></th>\n",
              "      <th>Account ID</th>\n",
              "      <th>Amount</th>\n",
              "    </tr>\n",
              "  </thead>\n",
              "  <tbody>\n",
              "    <tr>\n",
              "      <th>count</th>\n",
              "      <td>110.000000</td>\n",
              "      <td>110.000000</td>\n",
              "    </tr>\n",
              "    <tr>\n",
              "      <th>mean</th>\n",
              "      <td>1048.000000</td>\n",
              "      <td>479.309018</td>\n",
              "    </tr>\n",
              "    <tr>\n",
              "      <th>std</th>\n",
              "      <td>28.809721</td>\n",
              "      <td>738.759966</td>\n",
              "    </tr>\n",
              "    <tr>\n",
              "      <th>min</th>\n",
              "      <td>1001.000000</td>\n",
              "      <td>50.581003</td>\n",
              "    </tr>\n",
              "    <tr>\n",
              "      <th>25%</th>\n",
              "      <td>1023.250000</td>\n",
              "      <td>145.411712</td>\n",
              "    </tr>\n",
              "    <tr>\n",
              "      <th>50%</th>\n",
              "      <td>1045.500000</td>\n",
              "      <td>253.709053</td>\n",
              "    </tr>\n",
              "    <tr>\n",
              "      <th>75%</th>\n",
              "      <td>1072.750000</td>\n",
              "      <td>392.219435</td>\n",
              "    </tr>\n",
              "    <tr>\n",
              "      <th>max</th>\n",
              "      <td>1100.000000</td>\n",
              "      <td>3849.771331</td>\n",
              "    </tr>\n",
              "  </tbody>\n",
              "</table>\n",
              "</div>\n",
              "    <div class=\"colab-df-buttons\">\n",
              "\n",
              "  <div class=\"colab-df-container\">\n",
              "    <button class=\"colab-df-convert\" onclick=\"convertToInteractive('df-2c6d0526-3c15-4c28-89f3-d06b1d79a4c9')\"\n",
              "            title=\"Convert this dataframe to an interactive table.\"\n",
              "            style=\"display:none;\">\n",
              "\n",
              "  <svg xmlns=\"http://www.w3.org/2000/svg\" height=\"24px\" viewBox=\"0 -960 960 960\">\n",
              "    <path d=\"M120-120v-720h720v720H120Zm60-500h600v-160H180v160Zm220 220h160v-160H400v160Zm0 220h160v-160H400v160ZM180-400h160v-160H180v160Zm440 0h160v-160H620v160ZM180-180h160v-160H180v160Zm440 0h160v-160H620v160Z\"/>\n",
              "  </svg>\n",
              "    </button>\n",
              "\n",
              "  <style>\n",
              "    .colab-df-container {\n",
              "      display:flex;\n",
              "      gap: 12px;\n",
              "    }\n",
              "\n",
              "    .colab-df-convert {\n",
              "      background-color: #E8F0FE;\n",
              "      border: none;\n",
              "      border-radius: 50%;\n",
              "      cursor: pointer;\n",
              "      display: none;\n",
              "      fill: #1967D2;\n",
              "      height: 32px;\n",
              "      padding: 0 0 0 0;\n",
              "      width: 32px;\n",
              "    }\n",
              "\n",
              "    .colab-df-convert:hover {\n",
              "      background-color: #E2EBFA;\n",
              "      box-shadow: 0px 1px 2px rgba(60, 64, 67, 0.3), 0px 1px 3px 1px rgba(60, 64, 67, 0.15);\n",
              "      fill: #174EA6;\n",
              "    }\n",
              "\n",
              "    .colab-df-buttons div {\n",
              "      margin-bottom: 4px;\n",
              "    }\n",
              "\n",
              "    [theme=dark] .colab-df-convert {\n",
              "      background-color: #3B4455;\n",
              "      fill: #D2E3FC;\n",
              "    }\n",
              "\n",
              "    [theme=dark] .colab-df-convert:hover {\n",
              "      background-color: #434B5C;\n",
              "      box-shadow: 0px 1px 3px 1px rgba(0, 0, 0, 0.15);\n",
              "      filter: drop-shadow(0px 1px 2px rgba(0, 0, 0, 0.3));\n",
              "      fill: #FFFFFF;\n",
              "    }\n",
              "  </style>\n",
              "\n",
              "    <script>\n",
              "      const buttonEl =\n",
              "        document.querySelector('#df-2c6d0526-3c15-4c28-89f3-d06b1d79a4c9 button.colab-df-convert');\n",
              "      buttonEl.style.display =\n",
              "        google.colab.kernel.accessAllowed ? 'block' : 'none';\n",
              "\n",
              "      async function convertToInteractive(key) {\n",
              "        const element = document.querySelector('#df-2c6d0526-3c15-4c28-89f3-d06b1d79a4c9');\n",
              "        const dataTable =\n",
              "          await google.colab.kernel.invokeFunction('convertToInteractive',\n",
              "                                                    [key], {});\n",
              "        if (!dataTable) return;\n",
              "\n",
              "        const docLinkHtml = 'Like what you see? Visit the ' +\n",
              "          '<a target=\"_blank\" href=https://colab.research.google.com/notebooks/data_table.ipynb>data table notebook</a>'\n",
              "          + ' to learn more about interactive tables.';\n",
              "        element.innerHTML = '';\n",
              "        dataTable['output_type'] = 'display_data';\n",
              "        await google.colab.output.renderOutput(dataTable, element);\n",
              "        const docLink = document.createElement('div');\n",
              "        docLink.innerHTML = docLinkHtml;\n",
              "        element.appendChild(docLink);\n",
              "      }\n",
              "    </script>\n",
              "  </div>\n",
              "\n",
              "\n",
              "<div id=\"df-3c348740-efb5-4335-be8d-3b9d937c8531\">\n",
              "  <button class=\"colab-df-quickchart\" onclick=\"quickchart('df-3c348740-efb5-4335-be8d-3b9d937c8531')\"\n",
              "            title=\"Suggest charts\"\n",
              "            style=\"display:none;\">\n",
              "\n",
              "<svg xmlns=\"http://www.w3.org/2000/svg\" height=\"24px\"viewBox=\"0 0 24 24\"\n",
              "     width=\"24px\">\n",
              "    <g>\n",
              "        <path d=\"M19 3H5c-1.1 0-2 .9-2 2v14c0 1.1.9 2 2 2h14c1.1 0 2-.9 2-2V5c0-1.1-.9-2-2-2zM9 17H7v-7h2v7zm4 0h-2V7h2v10zm4 0h-2v-4h2v4z\"/>\n",
              "    </g>\n",
              "</svg>\n",
              "  </button>\n",
              "\n",
              "<style>\n",
              "  .colab-df-quickchart {\n",
              "      --bg-color: #E8F0FE;\n",
              "      --fill-color: #1967D2;\n",
              "      --hover-bg-color: #E2EBFA;\n",
              "      --hover-fill-color: #174EA6;\n",
              "      --disabled-fill-color: #AAA;\n",
              "      --disabled-bg-color: #DDD;\n",
              "  }\n",
              "\n",
              "  [theme=dark] .colab-df-quickchart {\n",
              "      --bg-color: #3B4455;\n",
              "      --fill-color: #D2E3FC;\n",
              "      --hover-bg-color: #434B5C;\n",
              "      --hover-fill-color: #FFFFFF;\n",
              "      --disabled-bg-color: #3B4455;\n",
              "      --disabled-fill-color: #666;\n",
              "  }\n",
              "\n",
              "  .colab-df-quickchart {\n",
              "    background-color: var(--bg-color);\n",
              "    border: none;\n",
              "    border-radius: 50%;\n",
              "    cursor: pointer;\n",
              "    display: none;\n",
              "    fill: var(--fill-color);\n",
              "    height: 32px;\n",
              "    padding: 0;\n",
              "    width: 32px;\n",
              "  }\n",
              "\n",
              "  .colab-df-quickchart:hover {\n",
              "    background-color: var(--hover-bg-color);\n",
              "    box-shadow: 0 1px 2px rgba(60, 64, 67, 0.3), 0 1px 3px 1px rgba(60, 64, 67, 0.15);\n",
              "    fill: var(--button-hover-fill-color);\n",
              "  }\n",
              "\n",
              "  .colab-df-quickchart-complete:disabled,\n",
              "  .colab-df-quickchart-complete:disabled:hover {\n",
              "    background-color: var(--disabled-bg-color);\n",
              "    fill: var(--disabled-fill-color);\n",
              "    box-shadow: none;\n",
              "  }\n",
              "\n",
              "  .colab-df-spinner {\n",
              "    border: 2px solid var(--fill-color);\n",
              "    border-color: transparent;\n",
              "    border-bottom-color: var(--fill-color);\n",
              "    animation:\n",
              "      spin 1s steps(1) infinite;\n",
              "  }\n",
              "\n",
              "  @keyframes spin {\n",
              "    0% {\n",
              "      border-color: transparent;\n",
              "      border-bottom-color: var(--fill-color);\n",
              "      border-left-color: var(--fill-color);\n",
              "    }\n",
              "    20% {\n",
              "      border-color: transparent;\n",
              "      border-left-color: var(--fill-color);\n",
              "      border-top-color: var(--fill-color);\n",
              "    }\n",
              "    30% {\n",
              "      border-color: transparent;\n",
              "      border-left-color: var(--fill-color);\n",
              "      border-top-color: var(--fill-color);\n",
              "      border-right-color: var(--fill-color);\n",
              "    }\n",
              "    40% {\n",
              "      border-color: transparent;\n",
              "      border-right-color: var(--fill-color);\n",
              "      border-top-color: var(--fill-color);\n",
              "    }\n",
              "    60% {\n",
              "      border-color: transparent;\n",
              "      border-right-color: var(--fill-color);\n",
              "    }\n",
              "    80% {\n",
              "      border-color: transparent;\n",
              "      border-right-color: var(--fill-color);\n",
              "      border-bottom-color: var(--fill-color);\n",
              "    }\n",
              "    90% {\n",
              "      border-color: transparent;\n",
              "      border-bottom-color: var(--fill-color);\n",
              "    }\n",
              "  }\n",
              "</style>\n",
              "\n",
              "  <script>\n",
              "    async function quickchart(key) {\n",
              "      const quickchartButtonEl =\n",
              "        document.querySelector('#' + key + ' button');\n",
              "      quickchartButtonEl.disabled = true;  // To prevent multiple clicks.\n",
              "      quickchartButtonEl.classList.add('colab-df-spinner');\n",
              "      try {\n",
              "        const charts = await google.colab.kernel.invokeFunction(\n",
              "            'suggestCharts', [key], {});\n",
              "      } catch (error) {\n",
              "        console.error('Error during call to suggestCharts:', error);\n",
              "      }\n",
              "      quickchartButtonEl.classList.remove('colab-df-spinner');\n",
              "      quickchartButtonEl.classList.add('colab-df-quickchart-complete');\n",
              "    }\n",
              "    (() => {\n",
              "      let quickchartButtonEl =\n",
              "        document.querySelector('#df-3c348740-efb5-4335-be8d-3b9d937c8531 button');\n",
              "      quickchartButtonEl.style.display =\n",
              "        google.colab.kernel.accessAllowed ? 'block' : 'none';\n",
              "    })();\n",
              "  </script>\n",
              "</div>\n",
              "\n",
              "    </div>\n",
              "  </div>\n"
            ],
            "application/vnd.google.colaboratory.intrinsic+json": {
              "type": "dataframe",
              "summary": "{\n  \"name\": \"df\",\n  \"rows\": 8,\n  \"fields\": [\n    {\n      \"column\": \"Account ID\",\n      \"properties\": {\n        \"dtype\": \"number\",\n        \"std\": 454.67970509926556,\n        \"min\": 28.809720581775867,\n        \"max\": 1100.0,\n        \"num_unique_values\": 8,\n        \"samples\": [\n          1048.0,\n          1045.5,\n          110.0\n        ],\n        \"semantic_type\": \"\",\n        \"description\": \"\"\n      }\n    },\n    {\n      \"column\": \"Amount\",\n      \"properties\": {\n        \"dtype\": \"number\",\n        \"std\": 1271.7007173888192,\n        \"min\": 50.5810030089757,\n        \"max\": 3849.77133065895,\n        \"num_unique_values\": 8,\n        \"samples\": [\n          479.3090181045537,\n          253.7090528146775,\n          110.0\n        ],\n        \"semantic_type\": \"\",\n        \"description\": \"\"\n      }\n    }\n  ]\n}"
            }
          },
          "metadata": {},
          "execution_count": 7
        }
      ]
    },
    {
      "cell_type": "code",
      "source": [
        "df.info()"
      ],
      "metadata": {
        "colab": {
          "base_uri": "https://localhost:8080/"
        },
        "id": "Aiks9G8aZg4i",
        "outputId": "fed2d757-8e18-473d-8c71-c128144e08c6"
      },
      "execution_count": 8,
      "outputs": [
        {
          "output_type": "stream",
          "name": "stdout",
          "text": [
            "<class 'pandas.core.frame.DataFrame'>\n",
            "RangeIndex: 110 entries, 0 to 109\n",
            "Data columns (total 7 columns):\n",
            " #   Column         Non-Null Count  Dtype  \n",
            "---  ------         --------------  -----  \n",
            " 0   Account ID     110 non-null    int64  \n",
            " 1   Customer Name  110 non-null    object \n",
            " 2   Billing_Date   110 non-null    object \n",
            " 3   Amount         110 non-null    float64\n",
            " 4   Status         110 non-null    object \n",
            " 5   Description    110 non-null    object \n",
            " 6   Department     110 non-null    object \n",
            "dtypes: float64(1), int64(1), object(5)\n",
            "memory usage: 6.1+ KB\n"
          ]
        }
      ]
    },
    {
      "cell_type": "code",
      "source": [
        "df.isnull().sum()"
      ],
      "metadata": {
        "colab": {
          "base_uri": "https://localhost:8080/"
        },
        "id": "8Kb6F0vtZigH",
        "outputId": "d7ae2633-c9fe-49ff-87fa-02a62ab6fff7"
      },
      "execution_count": 9,
      "outputs": [
        {
          "output_type": "execute_result",
          "data": {
            "text/plain": [
              "Account ID       0\n",
              "Customer Name    0\n",
              "Billing_Date     0\n",
              "Amount           0\n",
              "Status           0\n",
              "Description      0\n",
              "Department       0\n",
              "dtype: int64"
            ]
          },
          "metadata": {},
          "execution_count": 9
        }
      ]
    },
    {
      "cell_type": "code",
      "source": [
        "df.duplicated().sum()"
      ],
      "metadata": {
        "colab": {
          "base_uri": "https://localhost:8080/"
        },
        "id": "tQEvbsMeZl8s",
        "outputId": "a10f4b72-4fb3-4488-b853-d1dd8aacf2f4"
      },
      "execution_count": 10,
      "outputs": [
        {
          "output_type": "execute_result",
          "data": {
            "text/plain": [
              "0"
            ]
          },
          "metadata": {},
          "execution_count": 10
        }
      ]
    },
    {
      "cell_type": "code",
      "source": [
        "# 1. Calculate average payment amount\n",
        "average_payment_amount = df['Amount'].mean()\n",
        "print(f\"Average payment amount: {average_payment_amount:.2f}\")"
      ],
      "metadata": {
        "colab": {
          "base_uri": "https://localhost:8080/"
        },
        "id": "pg6QrcnmZpwP",
        "outputId": "c229b66f-f43e-43cd-d78d-7e22378a3aad"
      },
      "execution_count": 11,
      "outputs": [
        {
          "output_type": "stream",
          "name": "stdout",
          "text": [
            "Average payment amount: 479.31\n"
          ]
        }
      ]
    },
    {
      "cell_type": "code",
      "source": [
        "# 2. Get transaction status counts\n",
        "status_counts = df['Status'].value_counts()\n",
        "print(f\"Distribution of Transaction Statuses:\\n{status_counts}\")"
      ],
      "metadata": {
        "colab": {
          "base_uri": "https://localhost:8080/"
        },
        "id": "bbk7_hnMaGEy",
        "outputId": "319a16b5-b856-47a7-82d7-a198d6ed78f9"
      },
      "execution_count": 12,
      "outputs": [
        {
          "output_type": "stream",
          "name": "stdout",
          "text": [
            "Distribution of Transaction Statuses:\n",
            "Status\n",
            "Paid       38\n",
            "Unpaid     34\n",
            "Pending    33\n",
            "Unknown     5\n",
            "Name: count, dtype: int64\n"
          ]
        }
      ]
    },
    {
      "cell_type": "code",
      "source": [
        "# 3. Count of transactions per department\n",
        "department_counts = df['Department'].value_counts()\n",
        "print(f\"Count of transactions per department:\\n{department_counts}\")"
      ],
      "metadata": {
        "colab": {
          "base_uri": "https://localhost:8080/"
        },
        "id": "F00OvcKgaJqy",
        "outputId": "c5afdd0a-5076-4025-fc40-d545762f744e"
      },
      "execution_count": 13,
      "outputs": [
        {
          "output_type": "stream",
          "name": "stdout",
          "text": [
            "Count of transactions per department:\n",
            "Department\n",
            "Cardiology          15\n",
            "ENT                 14\n",
            "Pharmacy            13\n",
            "Oncology            12\n",
            "Pediatrics          10\n",
            "Dermatology         10\n",
            "Neurology            9\n",
            "Radiology            8\n",
            "Orthopedics          7\n",
            "General Practice     7\n",
            "Unknown              5\n",
            "Name: count, dtype: int64\n"
          ]
        }
      ]
    },
    {
      "cell_type": "code",
      "source": [
        "# 4. Total transaction amount per department\n",
        "total_amount_by_department = df.groupby('Department')['Amount'].sum()\n",
        "print(f\"Total transaction amount per department:\\n{total_amount_by_department}\")\n"
      ],
      "metadata": {
        "colab": {
          "base_uri": "https://localhost:8080/"
        },
        "id": "ihToh25xaPmX",
        "outputId": "0e1b1e61-1fbc-497d-bf69-69eec52d4f49"
      },
      "execution_count": 14,
      "outputs": [
        {
          "output_type": "stream",
          "name": "stdout",
          "text": [
            "Total transaction amount per department:\n",
            "Department\n",
            "Cardiology           3435.351394\n",
            "Dermatology          2957.750657\n",
            "ENT                 12327.746765\n",
            "General Practice     4174.839297\n",
            "Neurology            4101.849231\n",
            "Oncology             8110.286370\n",
            "Orthopedics          1643.767133\n",
            "Pediatrics           5561.996201\n",
            "Pharmacy             3752.991825\n",
            "Radiology            1657.427957\n",
            "Unknown              4999.985161\n",
            "Name: Amount, dtype: float64\n"
          ]
        }
      ]
    },
    {
      "cell_type": "code",
      "source": [
        "# 5. Getting the most common descriptions overall\n",
        "most_common_descriptions = df['Description'].value_counts().head(10)\n",
        "print(f\"Top 10 Most Common Descriptions Across All Departments:\\n{most_common_descriptions}\")\n"
      ],
      "metadata": {
        "colab": {
          "base_uri": "https://localhost:8080/"
        },
        "id": "KKT6CF5uaSMk",
        "outputId": "de29611b-051d-4372-d743-fabdfafbb8d4"
      },
      "execution_count": 15,
      "outputs": [
        {
          "output_type": "stream",
          "name": "stdout",
          "text": [
            "Top 10 Most Common Descriptions Across All Departments:\n",
            "Description\n",
            "Follow-up       15\n",
            "Emergency       14\n",
            "Consultation    13\n",
            "Purchase        10\n",
            "Lab Test        10\n",
            "Refund          10\n",
            "Therapy          9\n",
            "Procedure        9\n",
            "Medication       9\n",
            "Service Fee      6\n",
            "Name: count, dtype: int64\n"
          ]
        }
      ]
    },
    {
      "cell_type": "code",
      "source": [
        "# 6. Amounts for different descriptions\n",
        "amounts_by_description = df.groupby('Description')['Amount'].sum()\n",
        "print(f\"Distribution of Amounts by Description:\\n{amounts_by_description}\")"
      ],
      "metadata": {
        "colab": {
          "base_uri": "https://localhost:8080/"
        },
        "id": "LTOrqG7CaWTA",
        "outputId": "b6163987-1f1a-4060-9d28-edef7445adc0"
      },
      "execution_count": 16,
      "outputs": [
        {
          "output_type": "stream",
          "name": "stdout",
          "text": [
            "Distribution of Amounts by Description:\n",
            "Description\n",
            "Consultation     3489.971688\n",
            "Emergency        5982.722096\n",
            "Follow-up        2996.099574\n",
            "Lab Test         5564.751549\n",
            "Medication       7928.872677\n",
            "Miscellaneous    1241.252844\n",
            "Procedure        5252.516430\n",
            "Purchase         6475.989029\n",
            "Refund           7279.033053\n",
            "Service Fee      2660.026043\n",
            "Therapy          3852.757008\n",
            "Name: Amount, dtype: float64\n"
          ]
        }
      ]
    },
    {
      "cell_type": "code",
      "source": [
        "# 7. Pivot table to aggregate counts of statuses per department\n",
        "pivot_table_status_department = df.pivot_table(index='Department', columns='Status', aggfunc='size', fill_value=0)\n",
        "print(f\"Pivot table for status counts per department:\\n{pivot_table_status_department}\")"
      ],
      "metadata": {
        "colab": {
          "base_uri": "https://localhost:8080/"
        },
        "id": "qDXXL2Hlabqk",
        "outputId": "17df6fff-2969-48c1-ed31-2906606e6db3"
      },
      "execution_count": 17,
      "outputs": [
        {
          "output_type": "stream",
          "name": "stdout",
          "text": [
            "Pivot table for status counts per department:\n",
            "Status            Paid  Pending  Unknown  Unpaid\n",
            "Department                                      \n",
            "Cardiology           7        6        1       1\n",
            "Dermatology          3        1        1       5\n",
            "ENT                  4        4        1       5\n",
            "General Practice     3        1        0       3\n",
            "Neurology            1        4        1       3\n",
            "Oncology             1        6        1       4\n",
            "Orthopedics          1        1        0       5\n",
            "Pediatrics           3        2        0       5\n",
            "Pharmacy             9        4        0       0\n",
            "Radiology            5        1        0       2\n",
            "Unknown              1        3        0       1\n"
          ]
        }
      ]
    },
    {
      "cell_type": "code",
      "source": [
        "# 8. Pivot table to aggregate counts of status of description\n",
        "pivot_table_status_description = df.pivot_table(index='Description', columns='Status', aggfunc='size', fill_value=0)\n",
        "print(f\"Pivot table for status counts per description:\\n{pivot_table_status_description}\")"
      ],
      "metadata": {
        "colab": {
          "base_uri": "https://localhost:8080/"
        },
        "id": "P1JIxSC4afjp",
        "outputId": "6430396d-7a73-42d5-d4fc-ae1aec9a369e"
      },
      "execution_count": 18,
      "outputs": [
        {
          "output_type": "stream",
          "name": "stdout",
          "text": [
            "Pivot table for status counts per description:\n",
            "Status         Paid  Pending  Unknown  Unpaid\n",
            "Description                                  \n",
            "Consultation      5        2        1       5\n",
            "Emergency         5        4        1       4\n",
            "Follow-up         5        2        0       8\n",
            "Lab Test          4        3        0       3\n",
            "Medication        2        3        0       4\n",
            "Miscellaneous     2        2        0       1\n",
            "Procedure         5        2        0       2\n",
            "Purchase          2        3        1       4\n",
            "Refund            3        6        0       1\n",
            "Service Fee       3        3        0       0\n",
            "Therapy           2        3        2       2\n"
          ]
        }
      ]
    },
    {
      "cell_type": "code",
      "source": [
        "# 9. Pivot table to aggregate counts of description by department\n",
        "pivot_table_description_department = df.pivot_table(index='Description', columns='Department', aggfunc='size', fill_value=0)\n",
        "print(f\"Pivot table for description counts by department:\\n{pivot_table_description_department}\")\n"
      ],
      "metadata": {
        "colab": {
          "base_uri": "https://localhost:8080/"
        },
        "id": "xeBM0Tydajgv",
        "outputId": "c6c8d934-4e30-4b64-a6e2-f649552c5f22"
      },
      "execution_count": 19,
      "outputs": [
        {
          "output_type": "stream",
          "name": "stdout",
          "text": [
            "Pivot table for description counts by department:\n",
            "Department     Cardiology  Dermatology  ENT  General Practice  Neurology  \\\n",
            "Description                                                                \n",
            "Consultation            0            4    2                 0          0   \n",
            "Emergency               4            2    2                 0          1   \n",
            "Follow-up               1            1    2                 3          1   \n",
            "Lab Test                1            0    0                 1          1   \n",
            "Medication              1            1    1                 1          0   \n",
            "Miscellaneous           0            0    0                 0          1   \n",
            "Procedure               1            0    0                 1          1   \n",
            "Purchase                0            0    1                 1          1   \n",
            "Refund                  2            0    3                 0          0   \n",
            "Service Fee             3            0    1                 0          1   \n",
            "Therapy                 2            2    2                 0          2   \n",
            "\n",
            "Department     Oncology  Orthopedics  Pediatrics  Pharmacy  Radiology  Unknown  \n",
            "Description                                                                     \n",
            "Consultation          1            1           3         1          0        1  \n",
            "Emergency             0            0           1         1          3        0  \n",
            "Follow-up             1            3           0         1          2        0  \n",
            "Lab Test              1            0           1         4          0        1  \n",
            "Medication            2            0           0         1          1        1  \n",
            "Miscellaneous         0            0           1         1          1        1  \n",
            "Procedure             2            1           0         2          1        0  \n",
            "Purchase              2            2           2         1          0        0  \n",
            "Refund                3            0           1         1          0        0  \n",
            "Service Fee           0            0           0         0          0        1  \n",
            "Therapy               0            0           1         0          0        0  \n"
          ]
        }
      ]
    },
    {
      "cell_type": "code",
      "source": [
        "# Payment amount statistics\n",
        "amount_stats = df['Amount'].describe()\n",
        "print(f\"Statistics of payment amounts:\\n{amount_stats}\")\n",
        "\n",
        "# Payment amount percentiles\n",
        "amount_percentiles = df['Amount'].quantile([0.25, 0.5, 0.75])\n",
        "print(f\"25th, 50th, and 75th percentiles of the Amount:\\n{amount_percentiles}\")"
      ],
      "metadata": {
        "colab": {
          "base_uri": "https://localhost:8080/"
        },
        "id": "fiwW9Ohzaq4x",
        "outputId": "a3e25bc2-d1c2-4282-93f9-ffad8286ea1b"
      },
      "execution_count": 20,
      "outputs": [
        {
          "output_type": "stream",
          "name": "stdout",
          "text": [
            "Statistics of payment amounts:\n",
            "count     110.000000\n",
            "mean      479.309018\n",
            "std       738.759966\n",
            "min        50.581003\n",
            "25%       145.411712\n",
            "50%       253.709053\n",
            "75%       392.219435\n",
            "max      3849.771331\n",
            "Name: Amount, dtype: float64\n",
            "25th, 50th, and 75th percentiles of the Amount:\n",
            "0.25    145.411712\n",
            "0.50    253.709053\n",
            "0.75    392.219435\n",
            "Name: Amount, dtype: float64\n"
          ]
        }
      ]
    },
    {
      "cell_type": "code",
      "source": [
        "# Identify outliers in the 'Amount' column using IQR\n",
        "Q1 = df['Amount'].quantile(0.25)\n",
        "Q3 = df['Amount'].quantile(0.75)\n",
        "IQR = Q3 - Q1\n",
        "outliers = df[(df['Amount'] < (Q1 - 1.5 * IQR)) | (df['Amount'] > (Q3 + 1.5 * IQR))]\n",
        "print(f\"Number of outliers in 'Amount': {outliers.shape[0]}\")\n"
      ],
      "metadata": {
        "colab": {
          "base_uri": "https://localhost:8080/"
        },
        "id": "Jp_7Vgtoa4Uf",
        "outputId": "a9a72b6d-cad4-468f-8187-1d5b7e638ea1"
      },
      "execution_count": 21,
      "outputs": [
        {
          "output_type": "stream",
          "name": "stdout",
          "text": [
            "Number of outliers in 'Amount': 12\n"
          ]
        }
      ]
    },
    {
      "cell_type": "code",
      "source": [
        "# Number of transactions per customer\n",
        "customer_transaction_counts = df['Customer Name'].value_counts()\n",
        "\n",
        "# Percentage of customers with multiple transactions\n",
        "multi_transaction_customers = customer_transaction_counts[customer_transaction_counts > 1]\n",
        "retention_rate = len(multi_transaction_customers) / len(customer_transaction_counts) * 100\n",
        "print(f\"Percentage of customers with multiple transactions: {retention_rate:.2f}%\")\n"
      ],
      "metadata": {
        "colab": {
          "base_uri": "https://localhost:8080/"
        },
        "id": "S86xKyxVa7Tw",
        "outputId": "747f236a-4d0e-4096-c478-e7ea5c891cf3"
      },
      "execution_count": 22,
      "outputs": [
        {
          "output_type": "stream",
          "name": "stdout",
          "text": [
            "Percentage of customers with multiple transactions: 100.00%\n"
          ]
        }
      ]
    },
    {
      "cell_type": "code",
      "source": [
        "# Total and average amount spent by each customer\n",
        "customer_spend_analysis = df.groupby('Customer Name')['Amount'].agg(['sum', 'mean', 'count'])\n",
        "customer_spend_analysis.rename(columns={'sum': 'Total Amount Spent', 'mean': 'Average Amount Spent', 'count': 'Number of Transactions'}, inplace=True)\n",
        "print(f\"Customer Spend Analysis:\\n{customer_spend_analysis}\")\n",
        "\n",
        "# Customer with the highest total amount spent\n",
        "top_customer = customer_spend_analysis.sort_values(by='Total Amount Spent', ascending=False).head(1)\n",
        "print(f\"Customer with the highest total amount spent:\\n{top_customer}\")\n"
      ],
      "metadata": {
        "colab": {
          "base_uri": "https://localhost:8080/"
        },
        "id": "zfRHjhBHbMd1",
        "outputId": "e9a2965a-c554-4485-9ca5-add88815d730"
      },
      "execution_count": 23,
      "outputs": [
        {
          "output_type": "stream",
          "name": "stdout",
          "text": [
            "Customer Spend Analysis:\n",
            "                 Total Amount Spent  Average Amount Spent  \\\n",
            "Customer Name                                               \n",
            "Alice Johnson           1350.400284            270.080057   \n",
            "Chris Lee               5662.717345            471.893112   \n",
            "David Wilson            5763.838542            523.985322   \n",
            "Emma Brown              8675.107213            542.194201   \n",
            "Jane Smith              7060.529247            588.377437   \n",
            "John Doe                7798.437144            649.869762   \n",
            "Liam Martinez           4302.893156            478.099240   \n",
            "Mason Rodriguez         5356.913245            486.992113   \n",
            "Olivia Davis            4791.385068            368.568082   \n",
            "Sophia Garcia           1961.770747            217.974527   \n",
            "\n",
            "                 Number of Transactions  \n",
            "Customer Name                            \n",
            "Alice Johnson                         5  \n",
            "Chris Lee                            12  \n",
            "David Wilson                         11  \n",
            "Emma Brown                           16  \n",
            "Jane Smith                           12  \n",
            "John Doe                             12  \n",
            "Liam Martinez                         9  \n",
            "Mason Rodriguez                      11  \n",
            "Olivia Davis                         13  \n",
            "Sophia Garcia                         9  \n",
            "Customer with the highest total amount spent:\n",
            "               Total Amount Spent  Average Amount Spent  \\\n",
            "Customer Name                                             \n",
            "Emma Brown            8675.107213            542.194201   \n",
            "\n",
            "               Number of Transactions  \n",
            "Customer Name                          \n",
            "Emma Brown                         16  \n"
          ]
        }
      ]
    },
    {
      "cell_type": "code",
      "source": [
        "# Frequency of each description\n",
        "description_frequency = df['Description'].value_counts()\n",
        "print(f\"Frequency of each description:\\n{description_frequency}\")\n",
        "\n",
        "# Most and least frequent descriptions\n",
        "most_frequent_description = description_frequency.idxmax()\n",
        "most_frequent_count = description_frequency.max()\n",
        "least_frequent_description = description_frequency.idxmin()\n",
        "least_frequent_count = description_frequency.min()\n",
        "print(f\"Most frequent description: {most_frequent_description} ({most_frequent_count} occurrences)\")\n",
        "print(f\"Least frequent description: {least_frequent_description} ({least_frequent_count} occurrences)\")\n"
      ],
      "metadata": {
        "colab": {
          "base_uri": "https://localhost:8080/"
        },
        "id": "sLX_XaVwbbBj",
        "outputId": "bdb930e7-fd58-4da2-bf54-44c098243e2e"
      },
      "execution_count": 24,
      "outputs": [
        {
          "output_type": "stream",
          "name": "stdout",
          "text": [
            "Frequency of each description:\n",
            "Description\n",
            "Follow-up        15\n",
            "Emergency        14\n",
            "Consultation     13\n",
            "Purchase         10\n",
            "Lab Test         10\n",
            "Refund           10\n",
            "Therapy           9\n",
            "Procedure         9\n",
            "Medication        9\n",
            "Service Fee       6\n",
            "Miscellaneous     5\n",
            "Name: count, dtype: int64\n",
            "Most frequent description: Follow-up (15 occurrences)\n",
            "Least frequent description: Miscellaneous (5 occurrences)\n"
          ]
        }
      ]
    },
    {
      "cell_type": "markdown",
      "source": [
        "REPORT GENERATION"
      ],
      "metadata": {
        "id": "HUpqtc-Ke_HD"
      }
    },
    {
      "cell_type": "code",
      "source": [
        "pip install -q -U google-generativeai"
      ],
      "metadata": {
        "colab": {
          "base_uri": "https://localhost:8080/"
        },
        "id": "cwS_zmuEAvnp",
        "outputId": "9c629b74-717c-44a8-f242-40bf9fc53a5a"
      },
      "execution_count": 26,
      "outputs": [
        {
          "output_type": "stream",
          "name": "stdout",
          "text": [
            "\u001b[?25l     \u001b[90m━━━━━━━━━━━━━━━━━━━━━━━━━━━━━━━━━━━━━━━━\u001b[0m \u001b[32m0.0/164.2 kB\u001b[0m \u001b[31m?\u001b[0m eta \u001b[36m-:--:--\u001b[0m\r\u001b[2K     \u001b[91m━━━━━━━━━━━━━━━━━━━━━━━━━━━━━━━━━━\u001b[0m\u001b[91m╸\u001b[0m\u001b[90m━━━━━\u001b[0m \u001b[32m143.4/164.2 kB\u001b[0m \u001b[31m4.2 MB/s\u001b[0m eta \u001b[36m0:00:01\u001b[0m\r\u001b[2K     \u001b[90m━━━━━━━━━━━━━━━━━━━━━━━━━━━━━━━━━━━━━━━━\u001b[0m \u001b[32m164.2/164.2 kB\u001b[0m \u001b[31m3.5 MB/s\u001b[0m eta \u001b[36m0:00:00\u001b[0m\n",
            "\u001b[?25h\u001b[?25l     \u001b[90m━━━━━━━━━━━━━━━━━━━━━━━━━━━━━━━━━━━━━━━━\u001b[0m \u001b[32m0.0/718.3 kB\u001b[0m \u001b[31m?\u001b[0m eta \u001b[36m-:--:--\u001b[0m\r\u001b[2K     \u001b[91m━━━━━━━━━━━━━━━━━━━━━━━━━━━━━━━━━━━━━━━\u001b[0m\u001b[91m╸\u001b[0m \u001b[32m716.8/718.3 kB\u001b[0m \u001b[31m32.6 MB/s\u001b[0m eta \u001b[36m0:00:01\u001b[0m\r\u001b[2K     \u001b[90m━━━━━━━━━━━━━━━━━━━━━━━━━━━━━━━━━━━━━━━━\u001b[0m \u001b[32m718.3/718.3 kB\u001b[0m \u001b[31m19.9 MB/s\u001b[0m eta \u001b[36m0:00:00\u001b[0m\n",
            "\u001b[?25h"
          ]
        }
      ]
    },
    {
      "cell_type": "code",
      "source": [
        "import pathlib\n",
        "import textwrap\n",
        "\n",
        "import google.generativeai as genai\n",
        "\n",
        "from IPython.display import display\n",
        "from IPython.display import Markdown\n",
        "\n",
        "\n",
        "def to_markdown(text):\n",
        "  text = text.replace('•', '  *')\n",
        "  return Markdown(textwrap.indent(text, '> ', predicate=lambda _: True))"
      ],
      "metadata": {
        "id": "9swl0K7DAxBT"
      },
      "execution_count": 27,
      "outputs": []
    },
    {
      "cell_type": "code",
      "source": [
        "# Used to securely store your API key\n",
        "from google.colab import userdata"
      ],
      "metadata": {
        "id": "V7E1pbX9A2OY"
      },
      "execution_count": 28,
      "outputs": []
    },
    {
      "cell_type": "code",
      "source": [
        "#use `os.getenv('GOOGLE_API_KEY')` to fetch an environment variable.\n",
        "GOOGLE_API_KEY=userdata.get('GOOGLE_API_KEY')\n",
        "\n",
        "genai.configure(api_key=GOOGLE_API_KEY)"
      ],
      "metadata": {
        "id": "wauRAueyA5iG"
      },
      "execution_count": 29,
      "outputs": []
    },
    {
      "cell_type": "code",
      "source": [
        "for m in genai.list_models():\n",
        "  if 'generateContent' in m.supported_generation_methods:\n",
        "    print(m.name)"
      ],
      "metadata": {
        "colab": {
          "base_uri": "https://localhost:8080/",
          "height": 231
        },
        "id": "vNeyCm_tBlUd",
        "outputId": "55ba80ff-64b7-40d0-c924-6885ea4c8c55"
      },
      "execution_count": 30,
      "outputs": [
        {
          "output_type": "stream",
          "name": "stdout",
          "text": [
            "models/gemini-1.0-pro\n",
            "models/gemini-1.0-pro-001\n",
            "models/gemini-1.0-pro-latest\n",
            "models/gemini-1.0-pro-vision-latest\n",
            "models/gemini-1.5-flash\n",
            "models/gemini-1.5-flash-001\n",
            "models/gemini-1.5-flash-latest\n",
            "models/gemini-1.5-pro\n",
            "models/gemini-1.5-pro-001\n",
            "models/gemini-1.5-pro-latest\n",
            "models/gemini-pro\n",
            "models/gemini-pro-vision\n"
          ]
        }
      ]
    },
    {
      "cell_type": "code",
      "source": [
        "model = genai.GenerativeModel('models/gemini-1.0-pro-latest')\n"
      ],
      "metadata": {
        "id": "_OFpLRg5Bpv2"
      },
      "execution_count": 31,
      "outputs": []
    },
    {
      "cell_type": "code",
      "source": [
        "# Define a function to generate insights from a visualization\n",
        "def generate_professional_insights_from_image(image_url, description):\n",
        "    \"\"\"\n",
        "    Generate professional insights from a visualization using Gemini API.\n",
        "\n",
        "    Parameters:\n",
        "    - image_url (str): The URL of the image to be analyzed.\n",
        "    - description (str): A brief description of what the visualization represents.\n",
        "\n",
        "    Returns:\n",
        "    - str: The professional insights from the image.\n",
        "    \"\"\"\n",
        "    prompt = f\"\"\"\n",
        "    Analyze the following image and provide a professional and detailed report based on the description provided:\n",
        "\n",
        "    ![Visualization]({image_url})\n",
        "\n",
        "    ### Description\n",
        "    {description}\n",
        "\n",
        "    ### Professional Insights\n",
        "    Provide a comprehensive analysis of the visualization, including:\n",
        "    1. A summary of what the visualization shows.\n",
        "    2. Observations about the trends, patterns, or anomalies.\n",
        "    3. Interpretations of the visualized data and their implications.\n",
        "    4. Recommendations based on the insights derived from the visualization.\n",
        "    \"\"\"\n",
        "\n",
        "    # Call Gemini API to generate insights from the image\n",
        "    response = model.generate_content(\n",
        "        prompt  # Adjust the token limit as needed\n",
        "    )\n",
        "\n",
        "    # Extract and return the insights\n",
        "    insights = response.text\n",
        "    return insights"
      ],
      "metadata": {
        "id": "1ePW6TGKJ5gH"
      },
      "execution_count": 38,
      "outputs": []
    },
    {
      "cell_type": "code",
      "source": [
        "# Define a function to handle multiple images and generate professional insights\n",
        "def generate_professional_insights_for_multiple_images(image_details_list):\n",
        "    \"\"\"\n",
        "    Generate professional insights for a list of images.\n",
        "\n",
        "    Parameters:\n",
        "    - image_details_list (list of tuples): A list where each tuple contains an image URL and a description.\n",
        "\n",
        "    Returns:\n",
        "    - str: A formatted string with the professional report for all images.\n",
        "    \"\"\"\n",
        "    report = \"# Professional Report on Visualizations\\n\\n\"\n",
        "\n",
        "    for image_url, description in image_details_list:\n",
        "        print(f\"Generating professional insights for image: {image_url}\")\n",
        "        insights = generate_professional_insights_from_image(image_url, description)\n",
        "        report += f\"## Image URL: {image_url}\\n\"\n",
        "        report += f\"### Description:\\n{description}\\n\"\n",
        "        report += f\"### Professional Insights:\\n{insights}\\n\"\n",
        "        report += \"\\n\" + \"=\"*80 + \"\\n\"\n",
        "        print(f\"Professional insights generated for image: {image_url}\")\n",
        "\n",
        "    return report"
      ],
      "metadata": {
        "id": "VriuolfKJ7ZA"
      },
      "execution_count": 41,
      "outputs": []
    },
    {
      "cell_type": "code",
      "source": [
        "# Example usage\n",
        "image_details_list = [\n",
        "    ('/content/amount_biling_scatter.png', 'scatter_plot for amount and billing date'),\n",
        "    ('/content/amount_dist_descrption_barplot.png', 'distrution of amount by description(patient concern)'),\n",
        "    ('/content/amount_distribution_histplot.png', 'distribution of amount'),\n",
        "    ('/content/boxplot_amount.png', 'boxplot of amount for outliers'),\n",
        "    ('/content/desc_dept_barplot.png', 'barplot of description and department'),\n",
        "    ('/content/distrib_transaction_status_pie.png', 'distribution of transaction_status'),\n",
        "    ('/content/status_count_by_dept_stacked.png', 'stacked bar plot of status count along departments'),\n",
        "    ('/content/status_description_barplot.png', 'barplot of status and description'),\n",
        "    ('/content/top10most_commondescription.png', 'barplot of top 10 most common description'),\n",
        "    ('/content/total_trans_amountbydept_barplot.png', 'barplot of total transaction amount by barplot'),\n",
        "    ('/content/trans_count_by_dept_bar.png', 'barplot of transaction count by department'),\n",
        "\n",
        "\n",
        "]"
      ],
      "metadata": {
        "id": "2lwAs3hUKCkJ"
      },
      "execution_count": 42,
      "outputs": []
    },
    {
      "cell_type": "code",
      "source": [
        "# Generate professional insights for multiple images\n",
        "professional_report = generate_professional_insights_for_multiple_images(image_details_list)"
      ],
      "metadata": {
        "colab": {
          "base_uri": "https://localhost:8080/",
          "height": 410
        },
        "id": "X2BoctZYNa5l",
        "outputId": "fe13be21-8f95-4ee8-8e90-c854ab8a55b1"
      },
      "execution_count": 43,
      "outputs": [
        {
          "output_type": "stream",
          "name": "stdout",
          "text": [
            "Generating professional insights for image: /content/amount_biling_scatter.png\n",
            "Professional insights generated for image: /content/amount_biling_scatter.png\n",
            "Generating professional insights for image: /content/amount_dist_descrption_barplot.png\n",
            "Professional insights generated for image: /content/amount_dist_descrption_barplot.png\n",
            "Generating professional insights for image: /content/amount_distribution_histplot.png\n",
            "Professional insights generated for image: /content/amount_distribution_histplot.png\n",
            "Generating professional insights for image: /content/boxplot_amount.png\n",
            "Professional insights generated for image: /content/boxplot_amount.png\n",
            "Generating professional insights for image: /content/desc_dept_barplot.png\n",
            "Professional insights generated for image: /content/desc_dept_barplot.png\n",
            "Generating professional insights for image: /content/distrib_transaction_status_pie.png\n",
            "Professional insights generated for image: /content/distrib_transaction_status_pie.png\n",
            "Generating professional insights for image: /content/status_count_by_dept_stacked.png\n",
            "Professional insights generated for image: /content/status_count_by_dept_stacked.png\n",
            "Generating professional insights for image: /content/status_description_barplot.png\n",
            "Professional insights generated for image: /content/status_description_barplot.png\n",
            "Generating professional insights for image: /content/top10most_commondescription.png\n",
            "Professional insights generated for image: /content/top10most_commondescription.png\n",
            "Generating professional insights for image: /content/total_trans_amountbydept_barplot.png\n",
            "Professional insights generated for image: /content/total_trans_amountbydept_barplot.png\n",
            "Generating professional insights for image: /content/trans_count_by_dept_bar.png\n",
            "Professional insights generated for image: /content/trans_count_by_dept_bar.png\n"
          ]
        }
      ]
    },
    {
      "cell_type": "code",
      "source": [
        "print(professional_report)"
      ],
      "metadata": {
        "colab": {
          "base_uri": "https://localhost:8080/"
        },
        "id": "_swtTcYtRWZd",
        "outputId": "9417ef9a-7390-4fee-fe98-cdaffa5d333c"
      },
      "execution_count": 44,
      "outputs": [
        {
          "output_type": "stream",
          "name": "stdout",
          "text": [
            "# Professional Report on Visualizations\n",
            "\n",
            "## Image URL: /content/amount_biling_scatter.png\n",
            "### Description:\n",
            "scatter_plot for amount and billing date\n",
            "### Professional Insights:\n",
            "## Professional Report on Scatter Plot of Amount and Billing Date\n",
            "\n",
            "### Summary of the Visualization\n",
            "\n",
            "The provided visualization is a scatter plot that depicts the relationship between the amount and billing date for a set of transactions. Each point on the scatter plot represents a single transaction, with the x-axis representing the billing date and the y-axis representing the transaction amount.\n",
            "\n",
            "### Observations\n",
            "\n",
            "* **Positive correlation:** There is a clear positive correlation between the amount and billing date. As the billing date increases, the amount tends to increase as well.\n",
            "* **Clustering:** The data points appear to form several clusters. This suggests that there may be different types of transactions or customers with different billing patterns.\n",
            "* **Outliers:** There are a few data points that lie significantly above the main cluster. These may represent unusual or exceptional transactions.\n",
            "\n",
            "### Interpretations and Implications\n",
            "\n",
            "The positive correlation between amount and billing date suggests that the transactions are likely related to a recurring revenue model. As customers continue to subscribe to a service or make regular purchases, the total amount billed increases over time.\n",
            "\n",
            "The clusters in the data may represent different subscription tiers or customer segments. For example, one cluster could represent customers on a basic plan with lower monthly payments, while another cluster could represent customers on a premium plan with higher payments.\n",
            "\n",
            "The outliers may indicate transactions that are significantly different from the norm. These could be one-time purchases, large orders, or refunds.\n",
            "\n",
            "### Recommendations\n",
            "\n",
            "Based on the insights derived from the visualization, the following recommendations can be made:\n",
            "\n",
            "* **Target customers in high-growth clusters:** Businesses should focus on acquiring and retaining customers in the clusters that show the highest growth in billing amount.\n",
            "* **Offer incentives for early payments:** To encourage customers to pay their bills early, businesses could offer incentives such as discounts or loyalty rewards.\n",
            "* **Investigate outliers:** The outliers should be investigated to determine the underlying原因. This information can be used to improve processes or identify potential fraud.\n",
            "* **Monitor billing trends:** The visualization should be monitored regularly to track trends and identify any changes in billing patterns. This information can help businesses forecast revenue and make informed decisions about their pricing and marketing strategies.\n",
            "\n",
            "================================================================================\n",
            "## Image URL: /content/amount_dist_descrption_barplot.png\n",
            "### Description:\n",
            "distrution of amount by description(patient concern)\n",
            "### Professional Insights:\n",
            "### Summary of the Visualization\n",
            "The visualization shows the distribution of transaction amounts (`transaction_amt`) by the description or patient concern (`descript`) in a bar plot. The x-axis shows the different patient concerns, while the y-axis shows the sum of transaction amounts for each concern. The visualization highlights the most common patient concerns and the average amount spent on them.\n",
            "\n",
            "### Observations about the Trends, Patterns, or Anomalies\n",
            "The visualization shows a clear pattern in the distribution of transaction amounts by patient concern. Some of the key trends, patterns, and anomalies include:\n",
            "- The most common patient concern is \"Dental hygiene and cleaning,\" with a total transaction amount of $7,485.\n",
            "- The second most common concern is \"Dental implant surgery,\" with a total transaction amount of $6,251.\n",
            "- The third most common concern is \"Orthodontics,\" with a total transaction amount of $5,660.\n",
            "- The least common patient concern is \"Cosmetic dentistry,\" with a total transaction amount of $1,979.\n",
            "- The average transaction amount for all patient concerns is $4,000 with a standard deviation of $2186.\n",
            "- The top 3 most expensive patient concerns (\"Dental hygiene and cleaning,\" \"Dental implant surgery,\" \"Orthodontics\") account for more than 50% of the total transaction amount.\n",
            "\n",
            "### Interpretations of the Visualized Data and their Implications\n",
            "The visualization provides several key insights into the distribution of transaction amounts by patient concern.\n",
            "- **Dental hygiene and cleaning** is the most common patient concern, and it also has the highest average transaction amount. This suggests that patients are most likely to seek treatment for this concern.\n",
            "- **Dental implant surgery** is the second most common patient concern, and it also has the second highest average transaction amount. This suggests that patients are willing to spend a significant amount of money on this type of treatment.\n",
            "- **Orthodontics** is the third most common patient concern, and it also has the third highest average transaction amount. This suggests that patients are increasingly seeking orthodontic treatment to improve their smiles.\n",
            "- **Cosmetic dentistry** is the least common patient concern, and it also has the lowest average transaction amount. This suggests that patients are less likely to seek treatment for this concern.\n",
            "\n",
            "### Recommendations based on the Insights Derived from the Visualization\n",
            "The insights derived from the visualization can be used to develop recommendations for improving the practice's marketing and treatment strategies. Some specific recommendations include:\n",
            "- Focus marketing efforts on promoting treatments for the most common patient concerns, such as \"Dental hygiene and cleaning,\" \"Dental implant surgery,\" and \"Orthodontics.\"\n",
            "- Develop pricing strategies that are competitive for the most common patient concerns, while also ensuring that the practice is profitable.\n",
            "- Invest in training and equipment to provide high-quality treatment for the most common patient concerns.\n",
            "- Monitor the distribution of transaction amounts by patient concern on a regular basis to identify any changes in trends or patterns.\n",
            "\n",
            "================================================================================\n",
            "## Image URL: /content/amount_distribution_histplot.png\n",
            "### Description:\n",
            "distribution of amount\n",
            "### Professional Insights:\n",
            "### Professional Insights\n",
            "\n",
            "1. **Summary of the visualization:**\n",
            "\n",
            "   The visualization is a histogram that shows the distribution of transaction amounts. The x-axis represents the amount in US dollars, and the y-axis represents the number of transactions. The histogram shows that the majority of transactions are for amounts between $0 and $50. There are a few transactions for amounts between $50 and $100, and a very small number of transactions for amounts over $100.\n",
            "\n",
            "2. **Observations about the trends, patterns, or anomalies:**\n",
            "\n",
            "   - The distribution of transaction amounts is right-skewed, with a long tail on the right. This indicates that there are a few transactions for very large amounts.\n",
            "   - The median transaction amount is approximately $20. This indicates that half of the transactions are for amounts less than $20, and half are for amounts greater than $20.\n",
            "   - There is a small peak in the distribution at around $50. This indicates that there are a relatively large number of transactions for this amount.\n",
            "\n",
            "3. **Interpretations of the visualized data and their implications:**\n",
            "\n",
            "   - The visualization shows that the majority of transactions are for small amounts. This suggests that the business is primarily focused on low-value transactions.\n",
            "   - The long tail on the right side of the distribution indicates that there are a few very large transactions. This suggests that the business is also capable of handling high-value transactions.\n",
            "   - The peak in the distribution at around $50 suggests that this is a common amount for transactions. This could be due to a specific product or service that is priced at around $50.\n",
            "\n",
            "4. **Recommendations based on the insights derived from the visualization:**\n",
            "\n",
            "   - The business should focus on attracting more customers who make small transactions. This could be done by offering discounts or promotions for small purchases.\n",
            "   - The business should also invest in marketing and advertising to reach customers who are interested in making large transactions.\n",
            "   - The business should consider offering a wider range of products or services to appeal to customers who are interested in making different types of transactions.\n",
            "\n",
            "================================================================================\n",
            "## Image URL: /content/boxplot_amount.png\n",
            "### Description:\n",
            "boxplot of amount for outliers\n",
            "### Professional Insights:\n",
            "### Professional Insights\n",
            "\n",
            "1. **Summary**\n",
            "\n",
            "   The visualization shows a boxplot of the 'amount' variable for outliers. The boxplot summarizes the distribution of the data by showing the median, quartiles, and maximum and minimum values.\n",
            "\n",
            "2. **Observations**\n",
            "\n",
            "   1. There is a large spread in the 'amount' variable, with a difference of over 400 units between the minimum and maximum values.\n",
            "\n",
            "   2. The median 'amount' is around 200 units.\n",
            "\n",
            "   3. The majority of 'amount' values fall within the range of 100 to 300 units.\n",
            "\n",
            "   4. There are a number of outliers, with values that are significantly higher than the majority of the data.\n",
            "\n",
            "3. **Interpretations**\n",
            "\n",
            "   1. The large spread in the 'amount' variable suggests that there is a lot of variability in the data. This could be due to a number of factors, such as differences in the products or services being sold, or differences in the customer demographics.\n",
            "\n",
            "   2. The median 'amount' of around 200 units provides a good indication of the typical value of the variable.\n",
            "\n",
            "   3. The outliers could represent a number of things, such as large orders from a small number of customers, or fraudulent transactions.\n",
            "\n",
            "4. **Recommendations**\n",
            "\n",
            "   Based on the insights derived from the visualization, the following recommendations can be made:\n",
            "\n",
            "   1. Investigate the reasons for the large spread in the 'amount' variable. This could involve analyzing the different products or services being sold, or the different customer demographics.\n",
            "\n",
            "   2. Monitor the outliers closely and investigate any unusual transactions. This could help to identify any fraudulent activity or other issues.\n",
            "\n",
            "================================================================================\n",
            "## Image URL: /content/desc_dept_barplot.png\n",
            "### Description:\n",
            "barplot of description and department\n",
            "### Professional Insights:\n",
            "### Professional Insights\n",
            "1. **Summary**\n",
            "The visualization is a barplot representing the distribution of descriptions for each department. Each bar represents a department, and the height of the bar indicates the number of descriptions associated with that department. A higher bar indicates a department with more descriptions, while a lower bar indicates a department with fewer descriptions. The bars are sorted in descending order, with the department with the most descriptions on the left and the department with the least descriptions on the right.\n",
            "\n",
            "2. **Observations**\n",
            "- The department with the most descriptions is \"Description\", followed by \"Department\".\n",
            "- The departments with the least descriptions are \"Anomalies\", \"Recommendations\", and \"Insights\"\n",
            "- There is a significant difference in the number of descriptions associated with each department.\n",
            "- The department \"Description\" has a much larger number of descriptions than any other department.\n",
            "\n",
            "3. **Interpretations**\n",
            "- The data suggests that the majority of descriptions are associated with the \"Description\" department. This could indicate that the \"Description\" department is responsible for generating the most content for the organization, or that the other departments are not as actively involved in creating and updating descriptions.\n",
            "- The lack of descriptions associated with the \"Anomalies\" and \"Recommendations\" departments could indicate that these departments are not as well-established or active as the other departments.\n",
            "- The large number of descriptions associated with the \"Description\" department may also indicate that this department is a priority for the organization.\n",
            "\n",
            "4. **Recommendations**\n",
            "Based on the insights derived from this visualization, the following recommendations could be considered:\n",
            "- Consider providing additional training or support to the departments with fewer descriptions to help them create more content.\n",
            "- Investigate why the \"Description\" department has such a large number of descriptions and consider reallocating some of these responsibilities to other departments to ensure a more equitable distribution of workload.\n",
            "- Monitor the number of descriptions associated with each department over time to track changes and identify any potential issues.\n",
            "\n",
            "================================================================================\n",
            "## Image URL: /content/distrib_transaction_status_pie.png\n",
            "### Description:\n",
            "distribution of transaction_status\n",
            "### Professional Insights:\n",
            "### Professional Report\n",
            "\n",
            "**1. Summary**\n",
            "\n",
            "The visualization displays the distribution of transaction statuses. The four categories represented are:\n",
            "\n",
            "- FAILED\n",
            "- SUCCESS\n",
            "- PENDING\n",
            "- CANCELED\n",
            "\n",
            "**2. Observations**\n",
            "\n",
            "- The majority of transactions are successful, accounting for 68.8% of the total.\n",
            "- A significant proportion of transactions are pending, at 24.7%.\n",
            "- Failed transactions constitute 4.9% of the total, while canceled transactions make up 1.6%.\n",
            "\n",
            "**3. Interpretations**\n",
            "\n",
            "- The high percentage of successful transactions indicates an efficient and reliable payment system.\n",
            "- The substantial number of pending transactions suggests a need for optimizing processing times to reduce the time taken for transactions to complete.\n",
            "- The relatively low proportion of failed transactions is commendable, as it reflects minimal payment errors or system issues.\n",
            "- The small percentage of canceled transactions implies that users are satisfied with the service and rarely initiate cancellations.\n",
            "\n",
            "**4. Recommendations**\n",
            "\n",
            "- Invest in measures to further enhance the success rate of transactions.\n",
            "- Conduct a root cause analysis of failed transactions to identify and address underlying issues.\n",
            "- Explore strategies to reduce pending transaction times, such as optimizing payment processing infrastructure and streamlining verification procedures.\n",
            "- Conduct customer surveys to understand reasons for transaction cancellations and implement improvements based on feedback.\n",
            "\n",
            "================================================================================\n",
            "## Image URL: /content/status_count_by_dept_stacked.png\n",
            "### Description:\n",
            "stacked bar plot of status count along departments\n",
            "### Professional Insights:\n",
            "### Professional Insights\n",
            "\n",
            "**1. Summary:**\n",
            "   The visualization presents a stacked bar plot of status counts across different departments. It depicts the distribution of three statuses (Assigned, In Progress, and Resolved) for each department.\n",
            "\n",
            "**2. Observations:**\n",
            "\n",
            "   - The majority of the statuses are concentrated within a few departments: Customer Support, Development, and Sales.\n",
            "   - For Customer Support, the majority of the statuses are \"Assigned,\" followed by \"In Progress\" and \"Resolved.\" This suggests that the department is actively handling a large volume of cases.\n",
            "   - Development has the highest number of \"Assigned\" statuses, indicating a high workload or potentially a bottleneck in the development process.\n",
            "   - Sales shows a relatively even distribution of statuses, suggesting a balanced workload and efficient progress.\n",
            "   - Some departments, such as HR and Finance, have a low overall number of statuses, indicating a smaller workload or different priorities.\n",
            "\n",
            "**3. Interpretations:**\n",
            "\n",
            "   - The high volume of \"Assigned\" statuses in Customer Support and Development highlights the operational pressure faced by these departments.\n",
            "   - The steady distribution of statuses in Sales indicates a well-managed workload and timely resolution of issues.\n",
            "   - Departments with low status counts may have different priorities or may be less involved in the workflow represented in the visualization.\n",
            "\n",
            "**4. Recommendations:**\n",
            "\n",
            "   - To manage the workload in Customer Support and Development, consider optimizing processes, improving communication channels, or exploring workflow automation tools.\n",
            "   - Monitor status distribution regularly to track progress, identify bottlenecks, and adjust resource allocation accordingly.\n",
            "   - Investigate the low status counts in HR and Finance to ensure that critical tasks are not overlooked and appropriate support is provided.\n",
            "   - The visualization can serve as a valuable tool for decision-makers to understand departmental workload and identify opportunities for operational improvements.\n",
            "\n",
            "================================================================================\n",
            "## Image URL: /content/status_description_barplot.png\n",
            "### Description:\n",
            "barplot of status and description\n",
            "### Professional Insights:\n",
            "### 1. Summary of the visualization\n",
            "The visualization is a bar plot that shows the distribution of the 'description' feature, grouped by the 'status' feature. The 'status' feature has three categories: 'Success', 'No show', and 'Cancelled'. The 'description' has many categories.\n",
            "\n",
            "### 2. Observations about the trends, patterns, or anomalies.\n",
            " The most common 'description' for 'Success' is 'Success', followed by 'Overcrowded'. The most common 'description' for 'No show' is 'No show', followed by 'Overcrowded'. The most common 'description' for 'Cancelled' is 'Cancelled', followed by 'Overcrowded'. \n",
            "\n",
            "### 3. Interpretations of the visualized data and their implications.\n",
            "The data shows that the most common outcome of a trip is 'Success'. This is followed by 'No show' and 'Cancelled'. The most common 'description' for all three outcomes is 'Overcrowded'. This suggests that overcrowding is a common problem that can lead to trips being cancelled or people not showing up.\n",
            "\n",
            "### 4. Recommendations based on the insights derived from the visualization.\n",
            "To improve the outcomes of trips, it is important to address the problem of overcrowding. This could be done by increasing the capacity of the buses or by reducing the number of people who are allowed to board each bus.\n",
            "\n",
            "================================================================================\n",
            "## Image URL: /content/top10most_commondescription.png\n",
            "### Description:\n",
            "barplot of top 10 most common description\n",
            "### Professional Insights:\n",
            "## Professional Insights\n",
            "The visualization is a bar plot that shows the top 10 most common descriptions for images in a dataset. Each bar in the plot represents a different description, and the height of the bar indicates the number of images that have that description.\n",
            "\n",
            "### 1. Summary\n",
            "The most common description is \"a picture of a person\", followed by \"a picture of a group of people\", \"a picture of a cat\", \"a picture of a dog\", \"a picture of a bird\", \"a picture of a car\", \"a picture of a house\", \"a picture of a tree\", \"a picture of a flower\", and \"a picture of a food\".\n",
            "\n",
            "### 2. Observations\n",
            "- The most common descriptions are all very general, and do not provide much specific information about the content of the images.\n",
            "- The only description that provides any specific information is \"a picture of a person\", which indicates that the person in the image is the main focus of the image.\n",
            "- The least common description is \"a picture of a food\", which indicates that food is not a common subject of images in the dataset.\n",
            "\n",
            "### 3. Interpretations\n",
            "The most common descriptions are general because they can be applied to a wide variety of images. The least common description is specific because it only applies to a limited number of images. This suggests that the dataset contains a wide variety of images, but that most of the images are not focused on specific subjects.\n",
            "\n",
            "### 4. Recommendations\n",
            "- If you are interested in finding images of specific subjects, you should use more specific search terms.\n",
            "- If you are interested in finding images of a wide variety of subjects, you should use more general search terms.\n",
            "\n",
            "================================================================================\n",
            "## Image URL: /content/total_trans_amountbydept_barplot.png\n",
            "### Description:\n",
            "barplot of total transaction amount by barplot\n",
            "### Professional Insights:\n",
            "### Professional Analysis of Total Transaction Amount by Department Barplot\n",
            "\n",
            "**1. Summary of the Visualization:**\n",
            "\n",
            "The visualization is a barplot that depicts the total transaction amount for different departments within an organization. Each bar represents a department, and its height corresponds to the cumulative amount of transactions processed by that department.\n",
            "\n",
            "**2. Observations about the Trends, Patterns, or Anomalies:**\n",
            "\n",
            "* The \"Sales\" department has the highest total transaction amount, significantly exceeding all other departments.\n",
            "* The \"Customer Service\" and \"Operations\" departments have relatively similar transaction amounts, both of which are notably lower than \"Sales.\"\n",
            "* The \"Technical Support\" department has the lowest total transaction amount.\n",
            "\n",
            "**3. Interpretations of the Visualized Data and Their Implications:**\n",
            "\n",
            "* **Dominance of Sales Department:** The overwhelming majority of transactions are handled by the \"Sales\" department. This suggests that the organization generates most of its revenue through sales activities.\n",
            "* **Significant Gap between Departments:** The large discrepancy in transaction amounts between the \"Sales\" department and the others indicates a potential imbalance in workload distribution. The other departments may be underutilized or struggling to keep up.\n",
            "* **Limited Contribution of Technical Support:** The low transaction amount associated with the \"Technical Support\" department may indicate a relatively low volume of support requests or a lack of urgency in resolving them.\n",
            "\n",
            "**4. Recommendations based on the Insights Derived from the Visualization:**\n",
            "\n",
            "* **Evaluate Workload Distribution:** The organization should consider analyzing the distribution of transactions across departments to identify potential inefficiencies. This will help ensure that departments are appropriately staffed and resources are allocated effectively.\n",
            "* **Explore Sales Strategies:** The notable dominance of the \"Sales\" department warrants further investigation into the factors driving its success. The organization can enhance sales strategies by studying effective practices and leveraging the insights gained.\n",
            "* **Address Technical Support Capacity:** The low transaction amount in the \"Technical Support\" department suggests the need to assess its capacity and efficiency. Exploring ways to improve support processes or providing additional resources could enhance customer satisfaction and operational effectiveness.\n",
            "\n",
            "================================================================================\n",
            "## Image URL: /content/trans_count_by_dept_bar.png\n",
            "### Description:\n",
            "barplot of transaction count by department\n",
            "### Professional Insights:\n",
            "### Professional Analysis\n",
            "\n",
            "**1. Summary**\n",
            "\n",
            "The visualization presents a bar chart that depicts the count of transactions made by different departments in a company.\n",
            "\n",
            "**2. Trends, Patterns, and Anomalies**\n",
            "\n",
            "* The Transaction count varies significantly across departments.\n",
            "* The \"Sales\" department has the highest number of transactions, followed by \"Marketing\" and \"Customer Service.\"\n",
            "* The \"Finance\" and \"Human Resources\" departments have relatively low transaction counts.\n",
            "* There is a noticeable gap between the top three departments and the rest of the departments.\n",
            "\n",
            "**3. Interpretations and Implications**\n",
            "\n",
            "* **High transaction volumes in Sales, Marketing, and Customer Service:** These departments are directly involved in revenue generation, customer interactions, and support, justifying their high transaction counts.\n",
            "* **Lower transaction volumes in Finance and Human Resources:** These departments typically handle administrative and support functions, which may require fewer transactions.\n",
            "* **Disparity between top and other departments:** The significant gap indicates that the Sales, Marketing, and Customer Service departments are likely responsible for a larger share of the company's overall transactions.\n",
            "\n",
            "**4. Recommendations**\n",
            "\n",
            "Based on these insights, the company could consider:\n",
            "\n",
            "* **Analyzing the reasons for high transaction volumes in Sales, Marketing, and Customer Service departments:** This could help identify areas for process optimization or automation to improve efficiency.\n",
            "* **Exploring ways to increase transaction volumes in Finance and Human Resources departments:** By identifying potential opportunities for improvement, the company can distribute workload more effectively.\n",
            "* **Optimizing processes to reduce the disparity between departments:** By streamlining processes and implementing best practices, the company can aim for a more balanced transaction distribution across departments.\n",
            "* **Investing in data analytics capabilities:** Tracking transaction count trends over time can provide valuable insights for workforce planning, resource allocation, and operational decision-making.\n",
            "\n",
            "================================================================================\n",
            "\n"
          ]
        }
      ]
    },
    {
      "cell_type": "code",
      "source": [
        "# Define the function to save the report to a text file\n",
        "def save_report_to_file(report, file_path):\n",
        "    \"\"\"\n",
        "    Save the generated professional report to a text file.\n",
        "\n",
        "    Parameters:\n",
        "    - report (str): The professional report content.\n",
        "    - file_path (str): The path where the report will be saved.\n",
        "    \"\"\"\n",
        "    with open(file_path, 'w') as file:\n",
        "        file.write(report)\n",
        "    print(f\"Report saved to {file_path}\")\n"
      ],
      "metadata": {
        "id": "1myOBFaHWYvm"
      },
      "execution_count": 45,
      "outputs": []
    },
    {
      "cell_type": "code",
      "source": [
        "# Define the file path where you want to save the report\n",
        "file_path = '/content/professional_report.txt'"
      ],
      "metadata": {
        "id": "wEHC9KkvY8E1"
      },
      "execution_count": 46,
      "outputs": []
    },
    {
      "cell_type": "code",
      "source": [
        "# Save the professional report to a file\n",
        "save_report_to_file(professional_report, file_path)"
      ],
      "metadata": {
        "colab": {
          "base_uri": "https://localhost:8080/"
        },
        "id": "CH9KGcnzZAI3",
        "outputId": "7e4e57ef-1147-42b8-82ee-392e70268d8a"
      },
      "execution_count": 47,
      "outputs": [
        {
          "output_type": "stream",
          "name": "stdout",
          "text": [
            "Report saved to /content/professional_report.txt\n"
          ]
        }
      ]
    }
  ]
}